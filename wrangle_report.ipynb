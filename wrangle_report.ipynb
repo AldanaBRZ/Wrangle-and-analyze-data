{
 "cells": [
  {
   "cell_type": "markdown",
   "id": "f19b65a0",
   "metadata": {},
   "source": [
    "# Report"
   ]
  },
  {
   "cell_type": "markdown",
   "id": "65c64807",
   "metadata": {},
   "source": [
    "## Data Wrangling steps:"
   ]
  },
  {
   "cell_type": "markdown",
   "id": "24817372",
   "metadata": {},
   "source": [
    "1. Data Gathering\n",
    "2. Data Assessment\n",
    "3. Data Cleaning\n",
    "4. Data Visualization"
   ]
  },
  {
   "cell_type": "markdown",
   "id": "7c64748d",
   "metadata": {},
   "source": [
    "## Project Details"
   ]
  },
  {
   "cell_type": "markdown",
   "id": "82e70c02",
   "metadata": {},
   "source": [
    "Each step was carried out the following way:"
   ]
  },
  {
   "cell_type": "markdown",
   "id": "32206f44",
   "metadata": {},
   "source": [
    "#### 1. Data Gathering"
   ]
  },
  {
   "cell_type": "markdown",
   "id": "395c9439",
   "metadata": {},
   "source": [
    "- I first opened the twitter archive enhanced CSV file (previously given to us by the Udacity team) with pandas `read_csv` function.\n",
    "- I then downloaded the image prediction data programmatically with the `requests` library.\n",
    "- I then gathered the Twitter API Data by querying Twitter's API for JSON data for each tweet ID in the Twitter Archive. I used Python's `Tweepy` library."
   ]
  },
  {
   "cell_type": "markdown",
   "id": "55dc9dc9",
   "metadata": {},
   "source": [
    "#### 2. Data Assessment"
   ]
  },
  {
   "cell_type": "markdown",
   "id": "b66334ee",
   "metadata": {},
   "source": [
    "- First I looked at the three tables to see the problems I could find just by seeing them. I found 5 quality problems and one tidiness problem. All of them were registered to fix them later.\n",
    "- I then made a programmatic assessment of the tables using `info()`, `value_counts()`, `describe()`, `duplicated()` and `any()`. I found 4 quality problems and 1 tidiness problem. All of them were registered to fix them later.\n",
    "- I then wrote down all the problems in one cell to have them all together. They are as follows:"
   ]
  },
  {
   "cell_type": "markdown",
   "id": "8ab42836",
   "metadata": {},
   "source": [
    "### **Quality**\n",
    "\n",
    "- `df_twit_arch`\n",
    "\n",
    "  - Following columns have NaN values: \n",
    "    - `in_reply_to_status_id`\n",
    "    - `in_reply_to_user_id`\n",
    "    - `retweeted_status_id`\n",
    "    - `retweeted_status_user_id`\n",
    "    - `retweeted_status_timestamp`\n",
    "  \n",
    "  - *floofer* should be *floof*\n",
    "  \n",
    "  - Dog stage *floofer* should be *floof*\n",
    "  \n",
    "  - Dog stages (`doggo`, `floofer`, `pupper`, `puppo`) should be in one column (such as one named `stages`)\n",
    "  \n",
    "  - `timestamp` should be *datetime64* dtype.\n",
    "  \n",
    "  - In the `name` column there are a lot of missing values (*None*) and some values that don't make sense (like *a*).\n",
    "  \n",
    "  - The following columns have missing values (less than 2354 values):\n",
    "    - `doggo` (2259)\n",
    "    - `floofer` (2346)\n",
    "    - `pupper` (2099)\n",
    "    - `puppo` (2326)\n",
    "\n",
    "  - `tweet_id` should be *object* dtype.\n",
    "  \n",
    "- `images`\n",
    "\n",
    "  - Following columns have uppercase and lowercase values (inconsistently)\n",
    "    - `p1`\n",
    "    - `p2`\n",
    "    - `p3`\n",
    "    \n",
    "- `tweet_count`\n",
    "\n",
    "  - `id_str` is not a clear name, and it's different from the one in the other table.\n",
    "\n",
    "### **Tidiness**\n",
    "\n",
    "- `tweet_count` should merge with `df_twit_arch`. The data in those tables is related.\n",
    "\n",
    "- `df_twit_arch`\n",
    "\n",
    "  - `source` has too much information in it, and it's too cluttered. "
   ]
  },
  {
   "cell_type": "markdown",
   "id": "3911e604",
   "metadata": {},
   "source": [
    "#### 3. Data Cleaning"
   ]
  },
  {
   "cell_type": "markdown",
   "id": "193b7086",
   "metadata": {},
   "source": [
    "- I first created duplicates of the tables with `copy()` to work with them exclusively.\n",
    "- I then proceeded to clean the datasets in the following way:\n",
    "  - Removed *retweets*, *replies* to original tweets and *replies* to replies. \n",
    "  - Changed the column name `floofer` to `floof`.\n",
    "  - Replaced all instances of `floofer` to `floof`.\n",
    "  - Replaced the different dog *stages* columns (`doggo`, `floof`, `pupper`, `puppo`) that had *None* values with empty strings.\n",
    "  - Put all dog stages (`doggo`, `floof`, `pupper`, `puppo`) inside a new `stages` column.\n",
    "  - Changed the `timestamp` dtype to `datetime64`.\n",
    "  - Converted all the missing names and names that didn’t make sense to *NaNs*.\n",
    "  - Changed `tweet_id` dtype to `object` dtype.\n",
    "  - Converted all the names from `p1`, `p2` and `p3` to lowercase.\n",
    "  - Changed the column name `id_str` to `tweet_id`.\n",
    "  - Removed *HTML tags* from the `source` column.\n",
    "  - Saved the *sources* and *urls* from `source` in new columns.\n",
    "  - Merged `tweet_count` and `df_twit_arch`.\n",
    "  - Merged the new dataframe and images into a *master dataset*.\n"
   ]
  },
  {
   "cell_type": "markdown",
   "id": "431bb211",
   "metadata": {},
   "source": [
    "#### 4. Data Visualization"
   ]
  },
  {
   "cell_type": "markdown",
   "id": "43b6dd70",
   "metadata": {},
   "source": [
    "- I asked the following questions and got the following insights:\n",
    "  - Are retweets and favourites related?\n",
    "    - They are positively correlated. Most values are between 0 and 10k retweets, and between 0 and 40k favourites. There are also some very large outliers.\n",
    "  - What are the ten most frequent dog breeds?\n",
    "    - From prediction 1:\n",
    "      - Golden Retriever, Labrador Retriever, Pembroke, Chihuahua, Pug, Chow, Samoyed, Pomeranian, Toy Poodle, Malamute.\n",
    "    - From prediction 2:\n",
    "      - Labrador Retriever, Golden Retriever, Cardigan, Chihuahua, Chesapeake Bay Retriever, French Bulldog, Pomeranian, Toy Poodle, Siberian Husky, Cocker Spaniel. \n",
    "    - From prediction 3:\n",
    "      - Labrador Retriever, Chihuahua, Golden Retriever, Eskimo Dog, Kelpie, Kuvasz, Chow, Staffordshire Bull Terrier, Beagle, Toy Poodle.\n",
    "  - What are the ten most common dog names? \n",
    "    - Charlie, Lucy, Cooper, Oliver, Penny, Tucker, Sadle, Winston, Daisy and Lola.\n"
   ]
  },
  {
   "cell_type": "markdown",
   "id": "580433aa",
   "metadata": {},
   "source": [
    "#### Insights:"
   ]
  },
  {
   "cell_type": "markdown",
   "id": "bd1295a4",
   "metadata": {},
   "source": [
    "- Favourites count and Retweets count are positively correlated.\n",
    "- The most frequent dog breed in p1 is Golden Retriever.\n",
    "- The most frequent dog breed in p2 is Labrador Retriever.\n",
    "- The most frequent dog breed in p3 is Labrador Retriever.\n",
    "- The most common dog name is Charlie (male), followed by Lucy (female). "
   ]
  }
 ],
 "metadata": {
  "kernelspec": {
   "display_name": "Python 3",
   "language": "python",
   "name": "python3"
  },
  "language_info": {
   "codemirror_mode": {
    "name": "ipython",
    "version": 3
   },
   "file_extension": ".py",
   "mimetype": "text/x-python",
   "name": "python",
   "nbconvert_exporter": "python",
   "pygments_lexer": "ipython3",
   "version": "3.8.8"
  }
 },
 "nbformat": 4,
 "nbformat_minor": 5
}
